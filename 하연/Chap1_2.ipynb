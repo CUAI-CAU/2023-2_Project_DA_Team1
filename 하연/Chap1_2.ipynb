{
 "cells": [
  {
   "cell_type": "markdown",
   "id": "5747efce",
   "metadata": {},
   "source": [
    "### 1.3 필수 파이썬 라이브러리\n",
    "1. 넘파이\n",
    "- 빠르고 효율적인 다차원 배열 객체 ndarray\n",
    "- 배열 원소를 다루거나 배열 간의 수학 계산을 수행하는 함수\n",
    "- 디스크로부터 배열기반의 데이터를 읽거나 쓸 수 있는 도구\n",
    "- 선형대수 계산, 푸리에변환, 난수 발생기\n",
    "2. 판다스\n",
    "- 행과 열 이름을 가지는 DataFrame, 1차원 배열 객체인 Series\n",
    "- 통합된 시계열 기능\n",
    "- 시계열 데이터와 비시계열 데이터를 함께 다룰 수 있는 통합 자료구조\n",
    "- 누락된 데이터를 유연하게 처리하는 기능\n",
    "- 메타데이터를 보존하는 산술연산과 축약 연산"
   ]
  },
  {
   "cell_type": "markdown",
   "id": "66ffa25f",
   "metadata": {},
   "source": [
    "#### 속성과 메서드\n",
    "- 파이썬에서 객체는 일반적으로 그 객체 내부에 저장된 다른 파이썬 객체인 '속성'과 그 객체의 내부 데이터에 접근할 수 있는 함수인 '메서드'를 갖는다. 속성과 메서드는 obj.attribute_name 문법으로 접근\n",
    "- 변수명 + Tab을 누르면 뜬다"
   ]
  },
  {
   "cell_type": "markdown",
   "id": "9d9ca2c1",
   "metadata": {},
   "source": [
    "#### 덕 타이핑\n",
    "- 객체의 자료형에 관심이 없고 그 객체가 어떤 메서드나 행동을 지원하는지만 알고싶은 경우\n",
    "- 대부분의 객체에서는 __iter__ 라는 매직 메서드를 가지고 있는지 확인."
   ]
  },
  {
   "cell_type": "code",
   "execution_count": 3,
   "id": "db3a1bb8",
   "metadata": {},
   "outputs": [],
   "source": [
    "def isiterable(obj):\n",
    "    try:\n",
    "        iter(obj)\n",
    "        return True\n",
    "    except TypeError: #iterable 객체 아님\n",
    "        return False"
   ]
  },
  {
   "cell_type": "code",
   "execution_count": 4,
   "id": "a9cdbcbe",
   "metadata": {},
   "outputs": [
    {
     "data": {
      "text/plain": [
       "True"
      ]
     },
     "execution_count": 4,
     "metadata": {},
     "output_type": "execute_result"
    }
   ],
   "source": [
    "isiterable(\"a string\")"
   ]
  },
  {
   "cell_type": "markdown",
   "id": "70bbb902",
   "metadata": {},
   "source": [
    "#### 가변객체와 불변객체\n",
    "- 대부분의 객체는 변경 가능\n",
    "- 문자열이나 튜블은 변경 불가능 (내부 값은 변경안됨)\n",
    "\n",
    "#### 날짜와 시간\n",
    "- date와 time 정보를 함께 저장하며 가장 흔하게 사용됨"
   ]
  },
  {
   "cell_type": "code",
   "execution_count": 5,
   "id": "e35de180",
   "metadata": {},
   "outputs": [
    {
     "data": {
      "text/plain": [
       "29"
      ]
     },
     "execution_count": 5,
     "metadata": {},
     "output_type": "execute_result"
    }
   ],
   "source": [
    "from datetime import datetime, date, time\n",
    "dt = datetime(2011, 10, 29, 20, 30, 21)\n",
    "dt.day"
   ]
  },
  {
   "cell_type": "code",
   "execution_count": 2,
   "id": "3c82d652",
   "metadata": {},
   "outputs": [
    {
     "data": {
      "text/plain": [
       "False"
      ]
     },
     "execution_count": 2,
     "metadata": {},
     "output_type": "execute_result"
    }
   ],
   "source": [
    "bool(None)"
   ]
  },
  {
   "cell_type": "code",
   "execution_count": null,
   "id": "b32286c1",
   "metadata": {},
   "outputs": [],
   "source": []
  }
 ],
 "metadata": {
  "kernelspec": {
   "display_name": "Python 3 (ipykernel)",
   "language": "python",
   "name": "python3"
  },
  "language_info": {
   "codemirror_mode": {
    "name": "ipython",
    "version": 3
   },
   "file_extension": ".py",
   "mimetype": "text/x-python",
   "name": "python",
   "nbconvert_exporter": "python",
   "pygments_lexer": "ipython3",
   "version": "3.10.9"
  }
 },
 "nbformat": 4,
 "nbformat_minor": 5
}
